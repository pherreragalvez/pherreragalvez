{
  "nbformat": 4,
  "nbformat_minor": 0,
  "metadata": {
    "colab": {
      "provenance": [],
      "authorship_tag": "ABX9TyMqLuvgBuPuysLCQvxc/T/J",
      "include_colab_link": true
    },
    "kernelspec": {
      "name": "python3",
      "display_name": "Python 3"
    },
    "language_info": {
      "name": "python"
    }
  },
  "cells": [
    {
      "cell_type": "markdown",
      "metadata": {
        "id": "view-in-github",
        "colab_type": "text"
      },
      "source": [
        "<a href=\"https://colab.research.google.com/github/pherreragalvez/pherreragalvez/blob/main/%C3%87lase_R_01.ipynb\" target=\"_parent\"><img src=\"https://colab.research.google.com/assets/colab-badge.svg\" alt=\"Open In Colab\"/></a>"
      ]
    },
    {
      "cell_type": "code",
      "execution_count": null,
      "metadata": {
        "id": "V6kCrPXnifpU"
      },
      "outputs": [],
      "source": []
    },
    {
      "cell_type": "markdown",
      "source": [
        "Prueba 1 de Colaboratory Pablo.\n",
        "Clase 1 de R."
      ],
      "metadata": {
        "id": "2Js70WQdi4Jy"
      }
    },
    {
      "cell_type": "code",
      "source": [
        "# Para limpiar el ambiente\n",
        "rm(list=ls())\n",
        "\n",
        "# Creación de vectores\n",
        "pais <- c(\"Chile\", \"Ecuador\", \"Bolivia\", \"Paraguay\", \"Uruguay\")\n",
        "poblacion <- c(20, 18, 12, 6, 3)\n",
        "\n",
        "# Se muestran los dos vectores\n",
        "pais\n",
        "poblacion\n",
        "tpaises <- data.frame(pais, poblacion)\n",
        "print(tpaises)\n"
      ],
      "metadata": {
        "colab": {
          "base_uri": "https://localhost:8080/",
          "height": 219
        },
        "id": "_gwu5UGzi-D1",
        "outputId": "b24e329b-e810-4522-e6fe-35b1f1c499ba",
        "collapsed": true
      },
      "execution_count": null,
      "outputs": [
        {
          "output_type": "error",
          "ename": "NameError",
          "evalue": "name 'rm' is not defined",
          "traceback": [
            "\u001b[0;31m---------------------------------------------------------------------------\u001b[0m",
            "\u001b[0;31mNameError\u001b[0m                                 Traceback (most recent call last)",
            "\u001b[0;32m<ipython-input-1-9304473c55ae>\u001b[0m in \u001b[0;36m<cell line: 2>\u001b[0;34m()\u001b[0m\n\u001b[1;32m      1\u001b[0m \u001b[0;31m# Para limpiar el ambiente\u001b[0m\u001b[0;34m\u001b[0m\u001b[0;34m\u001b[0m\u001b[0m\n\u001b[0;32m----> 2\u001b[0;31m \u001b[0mrm\u001b[0m\u001b[0;34m(\u001b[0m\u001b[0mlist\u001b[0m\u001b[0;34m=\u001b[0m\u001b[0mls\u001b[0m\u001b[0;34m(\u001b[0m\u001b[0;34m)\u001b[0m\u001b[0;34m)\u001b[0m\u001b[0;34m\u001b[0m\u001b[0;34m\u001b[0m\u001b[0m\n\u001b[0m\u001b[1;32m      3\u001b[0m \u001b[0;34m\u001b[0m\u001b[0m\n\u001b[1;32m      4\u001b[0m \u001b[0;31m# Creación de vectores\u001b[0m\u001b[0;34m\u001b[0m\u001b[0;34m\u001b[0m\u001b[0m\n\u001b[1;32m      5\u001b[0m \u001b[0mpais\u001b[0m \u001b[0;34m<\u001b[0m\u001b[0;34m-\u001b[0m \u001b[0mc\u001b[0m\u001b[0;34m(\u001b[0m\u001b[0;34m\"Chile\"\u001b[0m\u001b[0;34m,\u001b[0m \u001b[0;34m\"Ecuador\"\u001b[0m\u001b[0;34m,\u001b[0m \u001b[0;34m\"Bolivia\"\u001b[0m\u001b[0;34m,\u001b[0m \u001b[0;34m\"Paraguay\"\u001b[0m\u001b[0;34m,\u001b[0m \u001b[0;34m\"Uruguay\"\u001b[0m\u001b[0;34m)\u001b[0m\u001b[0;34m\u001b[0m\u001b[0;34m\u001b[0m\u001b[0m\n",
            "\u001b[0;31mNameError\u001b[0m: name 'rm' is not defined"
          ]
        }
      ]
    }
  ]
}